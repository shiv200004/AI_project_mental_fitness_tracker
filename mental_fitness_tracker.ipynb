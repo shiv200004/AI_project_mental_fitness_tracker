**IMPORTING LIBRARYS**

import warnings
warnings.filterwarnings("ignore")

import numpy as np
import pandas as pd


import seaborn as sns
import matplotlib.pyplot as plt
import plotly.express as px

**LOADING DATASET**

from google.colab import drive
drive.mount('/content/drive')

ds1=pd.read_csv("/content/drive/My Drive/Colab Notebooks/DATA/prevalence-by-mental-and-substance-use-disorder.csv")

ds2=pd.read_csv("/content/drive/My Drive/Colab Notebooks/DATA/mental-and-substance-use-as-share-of-disease.csv")

ds1.head()

ds2.head(10)

**MERGING BOTH DATASETS**

dataset=pd.merge(ds1,ds2)
dataset.head(10)

**DATA CLEANING**

dataset.isnull().sum()

dataset.drop('Code',axis=1,inplace=True)

dataset.head(10)

dataset.size,dataset.shape

dataset.set_axis(['Country','Year','Schizophrenia','Bipolar_disorder','Eating_disorder','Anxiety_disorder','Drug_usage','Depression','Alcohol','Mental_disorder'],axis='columns',inplace=True)

dataset.head(10)

**DATA VISUALIZATION**

plt.figure(figsize=(12,6))
sns.heatmap(dataset.corr(),annot=True,cmap='Reds')
plt.plot()

sns.pairplot(dataset,corner=True)
plt.show()

mean= dataset['Mental_disorder'].mean()
mean

fig = px.pie(dataset,values='Mental_disorder',names='Year')
fig.show()

fig = px.bar(dataset.head(10),x='Year',y='Mental_disorder',color='Year',template='ggplot2')
fig.show()

fig= px.line(dataset,x='Year',y='Mental_disorder',color='Country',markers=True,color_discrete_sequence=['green','orange'],template='plotly_white')
fig.show()

ds=dataset.copy()
ds.head()

ds.info()

from sklearn.preprocessing import LabelEncoder
l=LabelEncoder()
for i in ds.columns:
  if ds[i].dtype == 'object':
    ds[i]=l.fit_transform(ds[i])

ds.shape

**SPLIT DATA**

x=ds.drop('Mental_disorder',axis=1)
y=ds['Mental_disorder']
from sklearn.model_selection import train_test_split
xtrain,xtest,ytrain,ytest = train_test_split(x,y, test_size=.20, random_state=2)

print("xtrain:",xtrain.shape)
print("xtest:",xtest.shape)
print("\n ytrain:",ytrain.shape)
print("ytest:",ytest.shape)

**LINEAR REGRESSION**

from sklearn.linear_model import LinearRegression
from sklearn.metrics import mean_squared_error, r2_score
lr = LinearRegression()
lr.fit(xtrain, ytrain)


# model evaluation for training set
ytrain_pred = lr.predict(xtrain)
mse = mean_squared_error(ytrain, ytrain_pred)
rmse = (np.sqrt(mean_squared_error(ytrain, ytrain_pred)))
r2 = r2_score(ytrain, ytrain_pred)

print("The model performance for training set")
print("--------------------------------------")
print('MSE is {}'.format(mse))
print('RMSE is {}'.format(rmse))
print('R2 score is {}'.format(r2))
print("\n")

# model evaluation for testing set
ytest_pred = lr.predict(xtest)
mse = mean_squared_error(ytest, ytest_pred)
rmse = (np.sqrt(mean_squared_error(ytest, ytest_pred)))
r2 = r2_score(ytest, ytest_pred)

print("The model performance for testing set")
print("--------------------------------------")
print('MSE is {}'.format(mse))
print('RMSE is {}'.format(rmse))
print('R2 score is {}'.format(r2))

**RANDOM FOREST REGRESSOR**

from sklearn.ensemble import RandomForestRegressor
rf = RandomForestRegressor()
rf.fit(xtrain, ytrain)

# model evaluation for training set
ytrain_pred = rf.predict(xtrain)
mse = mean_squared_error(ytrain, ytrain_pred)
rmse = (np.sqrt(mean_squared_error(ytrain, ytrain_pred)))
r2 = r2_score(ytrain, ytrain_pred)

print("The model performance for training set")
print("--------------------------------------")
print('MSE is {}'.format(mse))
print('RMSE is {}'.format(rmse))
print('R2 score is {}'.format(r2))
print("\n")

# model evaluation for testing set
ytest_pred = rf.predict(xtest)
mse = mean_squared_error(ytest, ytest_pred)
rmse = (np.sqrt(mean_squared_error(ytest, ytest_pred)))
r2 = r2_score(ytest, ytest_pred)

print("The model performance for testing set")
print("--------------------------------------")
print('MSE is {}'.format(mse))
print('RMSE is {}'.format(rmse))
print('R2 score is {}'.format(r2))

# ***conclusion***
Random Forest Regression works well on both train and test sets with r2 score of 0.99.

np.random.seed(range(0,100))
print("Welcome to Mental Fitness Tracker!\nFill the detail to check your mental fitness!")
country=l.fit_transform([input('Enter Your country Name:')])
year=int(input("Enter the Year:"))
schi=(float(input("Enter your Schizophrenia rate in % (it not enter 0):")))*100
bipo_dis=(float(input("Enter your Bipolar disorder rate in % (it not enter 0):")))*100
eat_dis=(float(input("Enter your Eating disorder rate in % (it not enter 0):")))*100
anx=(float(input("Enter your Anxiety rate in % (it not enter 0):")))*100
drug_use=(float(input("Enter your Drug Usage rate in per year % (it not enter 0):")))*100
depr=(float(input("Enter your Depression rate in % (it not enter 0):")))*100
alch=(float(input("Enter your Alcohol Consuming rate per year in % (it not enter 0):")))*100

prediction=rf.predict([[country,year,schi,bipo_dis,eat_dis,anx,drug_use,depr,alch]])
print("Your Mental Fitness is {}%".format(prediction))
print("Bye...!/n")
print("thank for using mental fitness tracker")
